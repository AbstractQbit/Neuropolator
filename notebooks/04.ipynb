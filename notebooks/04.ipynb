{
 "cells": [
  {
   "cell_type": "code",
   "execution_count": 1,
   "metadata": {},
   "outputs": [
    {
     "name": "stdout",
     "output_type": "stream",
     "text": [
      "2.1.0.post2+cxx11.abi\n",
      "2.1.30.post0 \n",
      "[0]: _DeviceProperties(name='Intel(R) Arc(TM) A770 Graphics', platform_name='Intel(R) Level-Zero', dev_type='gpu', driver_version='1.3.29803', has_fp64=0, total_memory=15930MB, max_compute_units=512, gpu_eu_count=512)\n"
     ]
    }
   ],
   "source": [
    "import itertools\n",
    "import os\n",
    "import pickle\n",
    "import random\n",
    "from typing import Any, Callable, Dict, Iterable, Iterator, List, Optional, Tuple, Union\n",
    "\n",
    "import numpy as np\n",
    "import pandas as pd\n",
    "from scipy import stats as st\n",
    "from scipy.ndimage import gaussian_filter1d\n",
    "\n",
    "import torch\n",
    "import torch.nn as nn\n",
    "import torch.optim as optim\n",
    "import torch.nn.functional as F\n",
    "from torch.utils.data import DataLoader, Dataset\n",
    "from torch.utils.data.sampler import SubsetRandomSampler, WeightedRandomSampler\n",
    "\n",
    "import intel_extension_for_pytorch as ipex\n",
    "import schedulefree\n",
    "from tqdm import tqdm, trange\n",
    "\n",
    "from replay_loading import enum_replay_folder, files_to_strokes, sample_stroke\n",
    "\n",
    "import seaborn as sns\n",
    "import matplotlib.pyplot as plt\n",
    "%matplotlib inline\n",
    "plt.style.use(\"ggplot\")\n",
    "\n",
    "print(torch.__version__)\n",
    "print(ipex.__version__)\n",
    "[print(f'[{i}]: {torch.xpu.get_device_properties(i)}') for i in range(torch.xpu.device_count())]\n",
    "\n",
    "device = torch.device(\"xpu\")"
   ]
  },
  {
   "cell_type": "code",
   "execution_count": 2,
   "metadata": {},
   "outputs": [
    {
     "name": "stderr",
     "output_type": "stream",
     "text": [
      "100%|██████████| 300/300 [00:24<00:00, 12.50it/s]\n"
     ]
    },
    {
     "data": {
      "text/plain": [
       "1930021"
      ]
     },
     "execution_count": 2,
     "metadata": {},
     "output_type": "execute_result"
    }
   ],
   "source": [
    "replay_fns = list(itertools.islice(enum_replay_folder(\"H:/osu!/Data/r/\"), 300))\n",
    "strokes_subset = list(files_to_strokes(tqdm(replay_fns), min_length=50))\n",
    "sum((len(s[0]) for s in strokes_subset))"
   ]
  },
  {
   "cell_type": "code",
   "execution_count": 3,
   "metadata": {},
   "outputs": [],
   "source": [
    "class StrokeDataset(Dataset):\n",
    "    def __init__(\n",
    "        self,\n",
    "        strokes,\n",
    "        common_transforms=None,\n",
    "        input_transforms=None,\n",
    "        target_transforms=None,\n",
    "        common_split_transforms=None,\n",
    "    ):\n",
    "        self.strokes = strokes\n",
    "        self.common_transforms = common_transforms\n",
    "        self.input_transforms = input_transforms\n",
    "        self.target_transforms = target_transforms\n",
    "        self.common_split_transforms = common_split_transforms\n",
    "        self.wrand_sampler = WeightedRandomSampler([len(s[0]) for s in strokes], len(strokes), replacement=True)\n",
    "\n",
    "    def __len__(self):\n",
    "        return len(self.strokes)\n",
    "\n",
    "    def __getitem__(self, idx):\n",
    "        sample = self.strokes[idx]\n",
    "\n",
    "        for transform in self.common_transforms:\n",
    "            sample = transform(sample)\n",
    "        target = sample.copy()\n",
    "\n",
    "        for transform in self.input_transforms:\n",
    "            sample = transform(sample)\n",
    "\n",
    "        for transform in self.target_transforms:\n",
    "            target = transform(target)\n",
    "\n",
    "        if self.common_split_transforms:\n",
    "            for transform in self.common_split_transforms:\n",
    "                sample = transform(sample)\n",
    "                target = transform(target)\n",
    "\n",
    "        return sample, target\n",
    "\n",
    "\n",
    "class StrokeResample:\n",
    "    def __init__(self, rate_dist=st.uniform(30, 250), max_length=2048):\n",
    "        self.rate_dist = rate_dist\n",
    "        self.max_length = max_length\n",
    "\n",
    "    def __call__(self, sample):\n",
    "        timings, positions = sample\n",
    "        rate = self.rate_dist.rvs(1).item()\n",
    "        offset = np.random.uniform(0, 1 / rate)\n",
    "        return sample_stroke(timings, positions, rate, offset, max_length=self.max_length)\n",
    "\n",
    "\n",
    "class ScaleRotateFlip:\n",
    "    def __init__(self, scale_dist=st.uniform(0.5, 1.5)):\n",
    "        self.scale_dist = scale_dist\n",
    "\n",
    "    def __call__(self, sample):\n",
    "        scale = self.scale_dist.rvs(1).item()\n",
    "        sample = sample * scale\n",
    "        angle = random.uniform(-np.pi, np.pi)\n",
    "        flip = random.choice([1, -1])\n",
    "        rotation_matrix = np.array([[np.cos(angle), -flip * np.sin(angle)], [flip * np.sin(angle), np.cos(angle)]])\n",
    "        sample = sample @ rotation_matrix\n",
    "        return sample\n",
    "\n",
    "\n",
    "class LeftPad:\n",
    "    def __init__(self, target_length=2048):\n",
    "        self.target_length = target_length\n",
    "\n",
    "    def __call__(self, sample):\n",
    "        padding_width = self.target_length - len(sample)\n",
    "        return np.pad(sample, ((padding_width, 0), (0, 0)), mode=\"constant\", constant_values=0)\n",
    "\n",
    "\n",
    "class AddGaussianNoise:\n",
    "    def __init__(self, std_dist=st.expon(scale=0.5)):\n",
    "        self.std_dist = std_dist\n",
    "\n",
    "    def __call__(self, sample):\n",
    "        std = self.std_dist.rvs(1).item()\n",
    "        noise = np.random.normal(0, std, sample.shape)\n",
    "        return sample + noise\n",
    "\n",
    "\n",
    "class SmoothWithGaussian:\n",
    "    def __init__(self, sigma_dist=st.expon(scale=0.5)):\n",
    "        self.sigma_dist = sigma_dist\n",
    "\n",
    "    def __call__(self, sample):\n",
    "        sigma = self.sigma_dist.rvs(1).item()\n",
    "        return gaussian_filter1d(sample, sigma, axis=0)\n",
    "\n",
    "\n",
    "class StrokeDiff:\n",
    "    def __call__(self, sample):\n",
    "        return np.diff(sample, axis=0)\n",
    "\n",
    "\n",
    "class StrokeToTensor:\n",
    "    def __call__(self, sample):\n",
    "        return torch.from_numpy(sample).float()\n",
    "\n",
    "\n",
    "def collate_simple_stack(batch):\n",
    "    return torch.stack([stroke for stroke, _ in batch]).mT, torch.stack([target for _, target in batch]).mT\n",
    "\n",
    "\n",
    "batch_size = 256\n",
    "seq_len = 4096\n",
    "\n",
    "transforms = {\n",
    "    \"common_transforms\": [\n",
    "        StrokeResample(max_length=seq_len),\n",
    "        ScaleRotateFlip(),\n",
    "        LeftPad(target_length=seq_len),\n",
    "    ],\n",
    "    \"input_transforms\": [\n",
    "        AddGaussianNoise(),\n",
    "    ],\n",
    "    \"target_transforms\": [\n",
    "        SmoothWithGaussian(),\n",
    "    ],\n",
    "    \"common_split_transforms\": [\n",
    "        StrokeDiff(),\n",
    "        StrokeToTensor(),\n",
    "    ],\n",
    "}\n",
    "\n",
    "\n",
    "ds_small = StrokeDataset(strokes_subset, **transforms)\n",
    "ds_small_loader = DataLoader(\n",
    "    ds_small, batch_size=batch_size, sampler=ds_small.wrand_sampler, collate_fn=collate_simple_stack\n",
    ")"
   ]
  },
  {
   "cell_type": "code",
   "execution_count": 4,
   "metadata": {},
   "outputs": [
    {
     "data": {
      "text/plain": [
       "torch.Size([256, 2, 4095])"
      ]
     },
     "execution_count": 4,
     "metadata": {},
     "output_type": "execute_result"
    }
   ],
   "source": [
    "next(iter(ds_small_loader))[0].shape"
   ]
  },
  {
   "cell_type": "code",
   "execution_count": 5,
   "metadata": {},
   "outputs": [],
   "source": [
    "all_strokes = pickle.load(open(\"all_strokes.pkl\", \"rb\"))\n",
    "\n",
    "ds_full = StrokeDataset(all_strokes, **transforms)\n",
    "ds_full_loader = DataLoader(ds_full, batch_size=batch_size, sampler=ds_full.wrand_sampler, collate_fn=collate_simple_stack)"
   ]
  },
  {
   "cell_type": "code",
   "execution_count": 5,
   "metadata": {},
   "outputs": [
    {
     "name": "stdout",
     "output_type": "stream",
     "text": [
      "Kernels: tensor([5, 5, 5, 5, 5, 5, 5, 5, 5, 5, 5, 5, 1])\n",
      "Input channels: tensor([ 2, 10, 18, 26, 34, 38, 42, 46, 50, 52, 54, 56, 58])\n",
      "Channels: tensor([ 8,  8,  8,  8,  4,  4,  4,  4,  2,  2,  2,  2, 10])\n",
      "Dilations: None\n",
      "Pads: tensor([4, 4, 4, 4, 4, 4, 4, 4, 4, 4, 4, 4, 0])\n",
      "Total padding: 48\n"
     ]
    },
    {
     "data": {
      "text/plain": [
       "torch.Size([8, 2, 5, 464])"
      ]
     },
     "metadata": {},
     "output_type": "display_data"
    },
    {
     "data": {
      "text/plain": [
       "16412"
      ]
     },
     "execution_count": 5,
     "metadata": {},
     "output_type": "execute_result"
    }
   ],
   "source": [
    "class TestNet(torch.jit.ScriptModule):\n",
    "    def __init__(self, kernels=[5] * 12, channels=[8] * 4 + [4] * 4 + [2] * 4, dilations=None, out_steps=5):\n",
    "        super().__init__()\n",
    "\n",
    "        self.kernels = torch.tensor(kernels + [1])\n",
    "        self.out_steps = out_steps\n",
    "        self.channels = torch.tensor(channels + [2 * out_steps])\n",
    "        self.in_channels = torch.tensor([2] + channels).cumsum(dim=0)\n",
    "        self.total_channels = self.in_channels[-1].item() + 2\n",
    "        self.dilations = torch.tensor(dilations + [1]) if dilations is not None else None\n",
    "        self.pads = (self.kernels - 1) * (self.dilations if self.dilations is not None else 1)\n",
    "        self.pad_total = self.pads.sum().item()\n",
    "        self.pad_max = self.pads.max().item()\n",
    "        self.ar_len = 5\n",
    "\n",
    "        self.convs = nn.ModuleList(\n",
    "            [\n",
    "                nn.Conv1d(\n",
    "                    in_channels=self.in_channels[i].item(),\n",
    "                    out_channels=self.channels[i].item() * 2,\n",
    "                    kernel_size=self.kernels[i].item(),\n",
    "                    dilation=self.dilations[i].item() if self.dilations is not None else 1,\n",
    "                )\n",
    "                for i in range(len(self.kernels))\n",
    "            ]\n",
    "        )\n",
    "        self.n_layers = len(self.convs)\n",
    "\n",
    "        print(f\"Kernels: {self.kernels}\")\n",
    "        print(f\"Input channels: {self.in_channels}\")\n",
    "        print(f\"Channels: {self.channels}\")\n",
    "        print(f\"Dilations: {self.dilations}\")\n",
    "        print(f\"Pads: {self.pads}\")\n",
    "        print(f\"Total padding: {self.pad_total}\")\n",
    "\n",
    "    @torch.jit.script_method\n",
    "    def forward(self, x):\n",
    "        # input is (batch, channels, seq_len)\n",
    "        B, _, L = x.shape\n",
    "        curr_window = torch.tensor(x.shape[-1])\n",
    "        acts = [x]\n",
    "        for i, conv in enumerate(self.convs):\n",
    "            x = torch.cat([act[..., -curr_window:] for act in acts], dim=1)\n",
    "            x = conv(x)\n",
    "            x = F.glu(x, dim=1)\n",
    "            curr_window -= self.pads[i]\n",
    "            acts.append(x)\n",
    "        return x.view(B, 2, self.out_steps, L-self.pad_total) # (batch, 2, out_steps, seq_len-pad)\n",
    "        # return x.transpose(1, 2).view(B, L-self.pad_total, 2, self.out_steps)\n",
    "\n",
    "model = TestNet()\n",
    "\n",
    "with torch.no_grad():\n",
    "    display(model(torch.rand(8, 2, 512)).shape)\n",
    "\n",
    "sum(p.numel() for p in model.parameters() if p.requires_grad)"
   ]
  },
  {
   "cell_type": "code",
   "execution_count": 7,
   "metadata": {},
   "outputs": [],
   "source": [
    "step_loss_weights = 1 / np.arange(2, 7)\n",
    "\n",
    "def multistep_loss(input, preds):\n",
    "    in_L = input.shape[-1]\n",
    "    out_L = preds.shape[-1]\n",
    "    return torch.stack(\n",
    "        [\n",
    "            lw\n",
    "            * F.huber_loss(\n",
    "                # input (batch, 2, seq_len)\n",
    "                # preds (batch, 2, out_steps, seq_len-pad)\n",
    "                input[..., 1 + in_L - out_L + step : in_L ],\n",
    "                preds[..., step,                   : out_L - step - 1],\n",
    "            )\n",
    "            for step, lw in enumerate(step_loss_weights)\n",
    "        ]\n",
    "    ).sum()"
   ]
  },
  {
   "cell_type": "code",
   "execution_count": 8,
   "metadata": {},
   "outputs": [
    {
     "name": "stderr",
     "output_type": "stream",
     "text": [
      "100%|██████████| 874/874 [04:55<00:00,  2.96it/s]"
     ]
    },
    {
     "name": "stdout",
     "output_type": "stream",
     "text": [
      "1.840942622731425\n"
     ]
    },
    {
     "name": "stderr",
     "output_type": "stream",
     "text": [
      "\n"
     ]
    }
   ],
   "source": [
    "# get benchmark loss on one epoch\n",
    "\n",
    "class CopyLastBenchmark(torch.jit.ScriptModule):\n",
    "    def __init__(self, out_steps=5):\n",
    "        super().__init__()\n",
    "        self.out_steps = out_steps\n",
    "    \n",
    "    @torch.jit.script_method\n",
    "    def forward(self, x):\n",
    "        return x.unsqueeze(2).expand(-1, -1, self.out_steps, -1)\n",
    "\n",
    "benchmark_model = CopyLastBenchmark()\n",
    "losses = []\n",
    "with torch.no_grad():\n",
    "    for batch_input, batch_target in tqdm(ds_full_loader):\n",
    "        # batch = batch.mT\n",
    "        losses.append(multistep_loss(batch_target, benchmark_model(batch_input)).item())\n",
    "print(np.mean(losses))"
   ]
  },
  {
   "cell_type": "code",
   "execution_count": 6,
   "metadata": {},
   "outputs": [
    {
     "name": "stdout",
     "output_type": "stream",
     "text": [
      "Kernels: tensor([7, 7, 7, 5, 5, 5, 3, 3, 3, 1])\n",
      "Input channels: tensor([ 2,  6, 10, 14, 17, 20, 23, 25, 27, 29])\n",
      "Channels: tensor([ 4,  4,  4,  3,  3,  3,  2,  2,  2, 10])\n",
      "Dilations: tensor([ 1,  2,  8, 12, 16, 12,  8,  2,  1,  1])\n",
      "Pads: tensor([ 6, 12, 48, 48, 64, 48, 16,  4,  2,  0])\n",
      "Total padding: 248\n",
      "4092\n"
     ]
    }
   ],
   "source": [
    "dilated_params = {\n",
    "    \"kernels\": [7, 7, 7, 5, 5, 5, 3, 3, 3],\n",
    "    \"channels\": [4, 4, 4, 3, 3, 3, 2, 2, 2],\n",
    "    \"dilations\": [1, 2, 8, 12, 16, 12, 8, 2, 1],\n",
    "}\n",
    "model = TestNet(**dilated_params)\n",
    "print(sum(p.numel() for p in model.parameters() if p.requires_grad))\n"
   ]
  },
  {
   "cell_type": "code",
   "execution_count": 9,
   "metadata": {},
   "outputs": [
    {
     "name": "stdout",
     "output_type": "stream",
     "text": [
      "Kernels: tensor([7, 7, 7, 5, 5, 5, 3, 3, 3, 1])\n",
      "Input channels: tensor([ 2,  6, 10, 14, 17, 20, 23, 25, 27, 29])\n",
      "Channels: tensor([ 4,  4,  4,  3,  3,  3,  2,  2,  2, 10])\n",
      "Dilations: tensor([ 1,  2,  8, 12, 16, 12,  8,  2,  1,  1])\n",
      "Pads: tensor([ 6, 12, 48, 48, 64, 48, 16,  4,  2,  0])\n",
      "Total padding: 248\n",
      "4092\n"
     ]
    },
    {
     "data": {
      "text/plain": [
       "(TestNet4(\n",
       "   (convs): RecursiveScriptModule(\n",
       "     original_name=ModuleList\n",
       "     (0): RecursiveScriptModule(original_name=Conv1d)\n",
       "     (1): RecursiveScriptModule(original_name=Conv1d)\n",
       "     (2): RecursiveScriptModule(original_name=Conv1d)\n",
       "     (3): RecursiveScriptModule(original_name=Conv1d)\n",
       "     (4): RecursiveScriptModule(original_name=Conv1d)\n",
       "     (5): RecursiveScriptModule(original_name=Conv1d)\n",
       "     (6): RecursiveScriptModule(original_name=Conv1d)\n",
       "     (7): RecursiveScriptModule(original_name=Conv1d)\n",
       "     (8): RecursiveScriptModule(original_name=Conv1d)\n",
       "     (9): RecursiveScriptModule(original_name=Conv1d)\n",
       "   )\n",
       " ),\n",
       " AdamWScheduleFree (\n",
       " Parameter Group 0\n",
       "     betas: (0.9, 0.999)\n",
       "     eps: 1e-08\n",
       "     foreach: True\n",
       "     k: 0\n",
       "     lr: 0.0025\n",
       "     lr_max: -1.0\n",
       "     r: 0.0\n",
       "     train_mode: True\n",
       "     warmup_steps: 0\n",
       "     weight_decay: 0.001\n",
       "     weight_lr_power: 2.0\n",
       "     weight_sum: 0.0\n",
       " ))"
      ]
     },
     "execution_count": 9,
     "metadata": {},
     "output_type": "execute_result"
    }
   ],
   "source": [
    "torch.xpu.empty_cache()\n",
    "model.to(device)\n",
    "unpad = model.pad_total + 1\n",
    "optimizer = schedulefree.AdamWScheduleFree(model.parameters(), lr=0.0025, weight_decay=0.001)\n",
    "ipex.optimize(model, optimizer=optimizer)"
   ]
  },
  {
   "cell_type": "code",
   "execution_count": 10,
   "metadata": {},
   "outputs": [
    {
     "name": "stderr",
     "output_type": "stream",
     "text": [
      "  5%|▌         | 47/874 [00:20<05:58,  2.31it/s]\n"
     ]
    },
    {
     "ename": "KeyboardInterrupt",
     "evalue": "",
     "output_type": "error",
     "traceback": [
      "\u001b[1;31m---------------------------------------------------------------------------\u001b[0m",
      "\u001b[1;31mKeyboardInterrupt\u001b[0m                         Traceback (most recent call last)",
      "Cell \u001b[1;32mIn[10], line 11\u001b[0m\n\u001b[0;32m      8\u001b[0m \u001b[38;5;28;01mfor\u001b[39;00m epoch \u001b[38;5;129;01min\u001b[39;00m \u001b[38;5;28mrange\u001b[39m(n_epochs):  \u001b[38;5;66;03m# number of epochs\u001b[39;00m\n\u001b[0;32m      9\u001b[0m     epoch_losses \u001b[38;5;241m=\u001b[39m []\n\u001b[1;32m---> 11\u001b[0m \u001b[43m    \u001b[49m\u001b[38;5;28;43;01mfor\u001b[39;49;00m\u001b[43m \u001b[49m\u001b[43mbatch_input\u001b[49m\u001b[43m,\u001b[49m\u001b[43m \u001b[49m\u001b[43mbatch_target\u001b[49m\u001b[43m \u001b[49m\u001b[38;5;129;43;01min\u001b[39;49;00m\u001b[43m \u001b[49m\u001b[43mtqdm\u001b[49m\u001b[43m(\u001b[49m\u001b[43mds_full_loader\u001b[49m\u001b[43m)\u001b[49m\u001b[43m:\u001b[49m\n\u001b[0;32m     12\u001b[0m \u001b[43m        \u001b[49m\u001b[43moptimizer\u001b[49m\u001b[38;5;241;43m.\u001b[39;49m\u001b[43mzero_grad\u001b[49m\u001b[43m(\u001b[49m\u001b[43m)\u001b[49m\n\u001b[0;32m     13\u001b[0m \u001b[43m        \u001b[49m\u001b[38;5;66;43;03m# batch = batch.mT.to(device) # (batch, 2, seq_len)\u001b[39;49;00m\n",
      "File \u001b[1;32mc:\\Users\\Abstract\\mambaforge\\envs\\intel_dl\\Lib\\site-packages\\tqdm\\std.py:1181\u001b[0m, in \u001b[0;36mtqdm.__iter__\u001b[1;34m(self)\u001b[0m\n\u001b[0;32m   1178\u001b[0m time \u001b[38;5;241m=\u001b[39m \u001b[38;5;28mself\u001b[39m\u001b[38;5;241m.\u001b[39m_time\n\u001b[0;32m   1180\u001b[0m \u001b[38;5;28;01mtry\u001b[39;00m:\n\u001b[1;32m-> 1181\u001b[0m \u001b[43m    \u001b[49m\u001b[38;5;28;43;01mfor\u001b[39;49;00m\u001b[43m \u001b[49m\u001b[43mobj\u001b[49m\u001b[43m \u001b[49m\u001b[38;5;129;43;01min\u001b[39;49;00m\u001b[43m \u001b[49m\u001b[43miterable\u001b[49m\u001b[43m:\u001b[49m\n\u001b[0;32m   1182\u001b[0m \u001b[43m        \u001b[49m\u001b[38;5;28;43;01myield\u001b[39;49;00m\u001b[43m \u001b[49m\u001b[43mobj\u001b[49m\n\u001b[0;32m   1183\u001b[0m \u001b[43m        \u001b[49m\u001b[38;5;66;43;03m# Update and possibly print the progressbar.\u001b[39;49;00m\n\u001b[0;32m   1184\u001b[0m \u001b[43m        \u001b[49m\u001b[38;5;66;43;03m# Note: does not call self.update(1) for speed optimisation.\u001b[39;49;00m\n",
      "File \u001b[1;32mc:\\Users\\Abstract\\mambaforge\\envs\\intel_dl\\Lib\\site-packages\\torch\\utils\\data\\dataloader.py:630\u001b[0m, in \u001b[0;36m_BaseDataLoaderIter.__next__\u001b[1;34m(self)\u001b[0m\n\u001b[0;32m    627\u001b[0m \u001b[38;5;28;01mif\u001b[39;00m \u001b[38;5;28mself\u001b[39m\u001b[38;5;241m.\u001b[39m_sampler_iter \u001b[38;5;129;01mis\u001b[39;00m \u001b[38;5;28;01mNone\u001b[39;00m:\n\u001b[0;32m    628\u001b[0m     \u001b[38;5;66;03m# TODO(https://github.com/pytorch/pytorch/issues/76750)\u001b[39;00m\n\u001b[0;32m    629\u001b[0m     \u001b[38;5;28mself\u001b[39m\u001b[38;5;241m.\u001b[39m_reset()  \u001b[38;5;66;03m# type: ignore[call-arg]\u001b[39;00m\n\u001b[1;32m--> 630\u001b[0m data \u001b[38;5;241m=\u001b[39m \u001b[38;5;28;43mself\u001b[39;49m\u001b[38;5;241;43m.\u001b[39;49m\u001b[43m_next_data\u001b[49m\u001b[43m(\u001b[49m\u001b[43m)\u001b[49m\n\u001b[0;32m    631\u001b[0m \u001b[38;5;28mself\u001b[39m\u001b[38;5;241m.\u001b[39m_num_yielded \u001b[38;5;241m+\u001b[39m\u001b[38;5;241m=\u001b[39m \u001b[38;5;241m1\u001b[39m\n\u001b[0;32m    632\u001b[0m \u001b[38;5;28;01mif\u001b[39;00m \u001b[38;5;28mself\u001b[39m\u001b[38;5;241m.\u001b[39m_dataset_kind \u001b[38;5;241m==\u001b[39m _DatasetKind\u001b[38;5;241m.\u001b[39mIterable \u001b[38;5;129;01mand\u001b[39;00m \\\n\u001b[0;32m    633\u001b[0m         \u001b[38;5;28mself\u001b[39m\u001b[38;5;241m.\u001b[39m_IterableDataset_len_called \u001b[38;5;129;01mis\u001b[39;00m \u001b[38;5;129;01mnot\u001b[39;00m \u001b[38;5;28;01mNone\u001b[39;00m \u001b[38;5;129;01mand\u001b[39;00m \\\n\u001b[0;32m    634\u001b[0m         \u001b[38;5;28mself\u001b[39m\u001b[38;5;241m.\u001b[39m_num_yielded \u001b[38;5;241m>\u001b[39m \u001b[38;5;28mself\u001b[39m\u001b[38;5;241m.\u001b[39m_IterableDataset_len_called:\n",
      "File \u001b[1;32mc:\\Users\\Abstract\\mambaforge\\envs\\intel_dl\\Lib\\site-packages\\torch\\utils\\data\\dataloader.py:674\u001b[0m, in \u001b[0;36m_SingleProcessDataLoaderIter._next_data\u001b[1;34m(self)\u001b[0m\n\u001b[0;32m    672\u001b[0m \u001b[38;5;28;01mdef\u001b[39;00m \u001b[38;5;21m_next_data\u001b[39m(\u001b[38;5;28mself\u001b[39m):\n\u001b[0;32m    673\u001b[0m     index \u001b[38;5;241m=\u001b[39m \u001b[38;5;28mself\u001b[39m\u001b[38;5;241m.\u001b[39m_next_index()  \u001b[38;5;66;03m# may raise StopIteration\u001b[39;00m\n\u001b[1;32m--> 674\u001b[0m     data \u001b[38;5;241m=\u001b[39m \u001b[38;5;28;43mself\u001b[39;49m\u001b[38;5;241;43m.\u001b[39;49m\u001b[43m_dataset_fetcher\u001b[49m\u001b[38;5;241;43m.\u001b[39;49m\u001b[43mfetch\u001b[49m\u001b[43m(\u001b[49m\u001b[43mindex\u001b[49m\u001b[43m)\u001b[49m  \u001b[38;5;66;03m# may raise StopIteration\u001b[39;00m\n\u001b[0;32m    675\u001b[0m     \u001b[38;5;28;01mif\u001b[39;00m \u001b[38;5;28mself\u001b[39m\u001b[38;5;241m.\u001b[39m_pin_memory:\n\u001b[0;32m    676\u001b[0m         data \u001b[38;5;241m=\u001b[39m _utils\u001b[38;5;241m.\u001b[39mpin_memory\u001b[38;5;241m.\u001b[39mpin_memory(data, \u001b[38;5;28mself\u001b[39m\u001b[38;5;241m.\u001b[39m_pin_memory_device)\n",
      "File \u001b[1;32mc:\\Users\\Abstract\\mambaforge\\envs\\intel_dl\\Lib\\site-packages\\torch\\utils\\data\\_utils\\fetch.py:51\u001b[0m, in \u001b[0;36m_MapDatasetFetcher.fetch\u001b[1;34m(self, possibly_batched_index)\u001b[0m\n\u001b[0;32m     49\u001b[0m         data \u001b[38;5;241m=\u001b[39m \u001b[38;5;28mself\u001b[39m\u001b[38;5;241m.\u001b[39mdataset\u001b[38;5;241m.\u001b[39m__getitems__(possibly_batched_index)\n\u001b[0;32m     50\u001b[0m     \u001b[38;5;28;01melse\u001b[39;00m:\n\u001b[1;32m---> 51\u001b[0m         data \u001b[38;5;241m=\u001b[39m \u001b[43m[\u001b[49m\u001b[38;5;28;43mself\u001b[39;49m\u001b[38;5;241;43m.\u001b[39;49m\u001b[43mdataset\u001b[49m\u001b[43m[\u001b[49m\u001b[43midx\u001b[49m\u001b[43m]\u001b[49m\u001b[43m \u001b[49m\u001b[38;5;28;43;01mfor\u001b[39;49;00m\u001b[43m \u001b[49m\u001b[43midx\u001b[49m\u001b[43m \u001b[49m\u001b[38;5;129;43;01min\u001b[39;49;00m\u001b[43m \u001b[49m\u001b[43mpossibly_batched_index\u001b[49m\u001b[43m]\u001b[49m\n\u001b[0;32m     52\u001b[0m \u001b[38;5;28;01melse\u001b[39;00m:\n\u001b[0;32m     53\u001b[0m     data \u001b[38;5;241m=\u001b[39m \u001b[38;5;28mself\u001b[39m\u001b[38;5;241m.\u001b[39mdataset[possibly_batched_index]\n",
      "File \u001b[1;32mc:\\Users\\Abstract\\mambaforge\\envs\\intel_dl\\Lib\\site-packages\\torch\\utils\\data\\_utils\\fetch.py:51\u001b[0m, in \u001b[0;36m<listcomp>\u001b[1;34m(.0)\u001b[0m\n\u001b[0;32m     49\u001b[0m         data \u001b[38;5;241m=\u001b[39m \u001b[38;5;28mself\u001b[39m\u001b[38;5;241m.\u001b[39mdataset\u001b[38;5;241m.\u001b[39m__getitems__(possibly_batched_index)\n\u001b[0;32m     50\u001b[0m     \u001b[38;5;28;01melse\u001b[39;00m:\n\u001b[1;32m---> 51\u001b[0m         data \u001b[38;5;241m=\u001b[39m [\u001b[38;5;28;43mself\u001b[39;49m\u001b[38;5;241;43m.\u001b[39;49m\u001b[43mdataset\u001b[49m\u001b[43m[\u001b[49m\u001b[43midx\u001b[49m\u001b[43m]\u001b[49m \u001b[38;5;28;01mfor\u001b[39;00m idx \u001b[38;5;129;01min\u001b[39;00m possibly_batched_index]\n\u001b[0;32m     52\u001b[0m \u001b[38;5;28;01melse\u001b[39;00m:\n\u001b[0;32m     53\u001b[0m     data \u001b[38;5;241m=\u001b[39m \u001b[38;5;28mself\u001b[39m\u001b[38;5;241m.\u001b[39mdataset[possibly_batched_index]\n",
      "Cell \u001b[1;32mIn[3], line 24\u001b[0m, in \u001b[0;36mStrokeDataset.__getitem__\u001b[1;34m(self, idx)\u001b[0m\n\u001b[0;32m     21\u001b[0m sample \u001b[38;5;241m=\u001b[39m \u001b[38;5;28mself\u001b[39m\u001b[38;5;241m.\u001b[39mstrokes[idx]\n\u001b[0;32m     23\u001b[0m \u001b[38;5;28;01mfor\u001b[39;00m transform \u001b[38;5;129;01min\u001b[39;00m \u001b[38;5;28mself\u001b[39m\u001b[38;5;241m.\u001b[39mcommon_transforms:\n\u001b[1;32m---> 24\u001b[0m     sample \u001b[38;5;241m=\u001b[39m \u001b[43mtransform\u001b[49m\u001b[43m(\u001b[49m\u001b[43msample\u001b[49m\u001b[43m)\u001b[49m\n\u001b[0;32m     25\u001b[0m target \u001b[38;5;241m=\u001b[39m sample\u001b[38;5;241m.\u001b[39mcopy()\n\u001b[0;32m     27\u001b[0m \u001b[38;5;28;01mfor\u001b[39;00m transform \u001b[38;5;129;01min\u001b[39;00m \u001b[38;5;28mself\u001b[39m\u001b[38;5;241m.\u001b[39minput_transforms:\n",
      "Cell \u001b[1;32mIn[3], line 50\u001b[0m, in \u001b[0;36mStrokeResample.__call__\u001b[1;34m(self, sample)\u001b[0m\n\u001b[0;32m     48\u001b[0m rate \u001b[38;5;241m=\u001b[39m \u001b[38;5;28mself\u001b[39m\u001b[38;5;241m.\u001b[39mrate_dist\u001b[38;5;241m.\u001b[39mrvs(\u001b[38;5;241m1\u001b[39m)\u001b[38;5;241m.\u001b[39mitem()\n\u001b[0;32m     49\u001b[0m offset \u001b[38;5;241m=\u001b[39m np\u001b[38;5;241m.\u001b[39mrandom\u001b[38;5;241m.\u001b[39muniform(\u001b[38;5;241m0\u001b[39m, \u001b[38;5;241m1\u001b[39m \u001b[38;5;241m/\u001b[39m rate)\n\u001b[1;32m---> 50\u001b[0m \u001b[38;5;28;01mreturn\u001b[39;00m \u001b[43msample_stroke\u001b[49m\u001b[43m(\u001b[49m\u001b[43mtimings\u001b[49m\u001b[43m,\u001b[49m\u001b[43m \u001b[49m\u001b[43mpositions\u001b[49m\u001b[43m,\u001b[49m\u001b[43m \u001b[49m\u001b[43mrate\u001b[49m\u001b[43m,\u001b[49m\u001b[43m \u001b[49m\u001b[43moffset\u001b[49m\u001b[43m,\u001b[49m\u001b[43m \u001b[49m\u001b[43mmax_length\u001b[49m\u001b[38;5;241;43m=\u001b[39;49m\u001b[38;5;28;43mself\u001b[39;49m\u001b[38;5;241;43m.\u001b[39;49m\u001b[43mmax_length\u001b[49m\u001b[43m)\u001b[49m\n",
      "File \u001b[1;32mh:\\Projects\\Neuropolator\\notebooks\\replay_loading.py:169\u001b[0m, in \u001b[0;36msample_stroke\u001b[1;34m(timings, positions, rate, offset, max_length)\u001b[0m\n\u001b[0;32m    167\u001b[0m knot_positions \u001b[38;5;241m=\u001b[39m np\u001b[38;5;241m.\u001b[39mtake(positions, [t_ind\u001b[38;5;241m-\u001b[39m\u001b[38;5;241m2\u001b[39m, t_ind\u001b[38;5;241m-\u001b[39m\u001b[38;5;241m1\u001b[39m, t_ind, t_ind\u001b[38;5;241m+\u001b[39m\u001b[38;5;241m1\u001b[39m], axis\u001b[38;5;241m=\u001b[39m\u001b[38;5;241m0\u001b[39m)\n\u001b[0;32m    168\u001b[0m knot_weights \u001b[38;5;241m=\u001b[39m cubic_barry_goldman_weights(knots_interp, t_interp)\n\u001b[1;32m--> 169\u001b[0m interp_positions \u001b[38;5;241m=\u001b[39m \u001b[43mnp\u001b[49m\u001b[38;5;241;43m.\u001b[39;49m\u001b[43msum\u001b[49m\u001b[43m(\u001b[49m\u001b[43mknot_positions\u001b[49m\u001b[43m \u001b[49m\u001b[38;5;241;43m*\u001b[39;49m\u001b[43m \u001b[49m\u001b[43mknot_weights\u001b[49m\u001b[43m[\u001b[49m\u001b[43m:\u001b[49m\u001b[43m,\u001b[49m\u001b[43m \u001b[49m\u001b[43m:\u001b[49m\u001b[43m,\u001b[49m\u001b[43m \u001b[49m\u001b[38;5;28;43;01mNone\u001b[39;49;00m\u001b[43m]\u001b[49m\u001b[43m,\u001b[49m\u001b[43m \u001b[49m\u001b[43maxis\u001b[49m\u001b[38;5;241;43m=\u001b[39;49m\u001b[38;5;241;43m0\u001b[39;49m\u001b[43m)\u001b[49m\n\u001b[0;32m    171\u001b[0m \u001b[38;5;28;01mreturn\u001b[39;00m interp_positions\n",
      "File \u001b[1;32mc:\\Users\\Abstract\\mambaforge\\envs\\intel_dl\\Lib\\site-packages\\numpy\\core\\fromnumeric.py:2172\u001b[0m, in \u001b[0;36m_sum_dispatcher\u001b[1;34m(a, axis, dtype, out, keepdims, initial, where)\u001b[0m\n\u001b[0;32m   2102\u001b[0m \u001b[38;5;250m    \u001b[39m\u001b[38;5;124;03m\"\"\"\u001b[39;00m\n\u001b[0;32m   2103\u001b[0m \u001b[38;5;124;03m    Clip (limit) the values in an array.\u001b[39;00m\n\u001b[0;32m   2104\u001b[0m \n\u001b[1;32m   (...)\u001b[0m\n\u001b[0;32m   2167\u001b[0m \n\u001b[0;32m   2168\u001b[0m \u001b[38;5;124;03m    \"\"\"\u001b[39;00m\n\u001b[0;32m   2169\u001b[0m     \u001b[38;5;28;01mreturn\u001b[39;00m _wrapfunc(a, \u001b[38;5;124m'\u001b[39m\u001b[38;5;124mclip\u001b[39m\u001b[38;5;124m'\u001b[39m, a_min, a_max, out\u001b[38;5;241m=\u001b[39mout, \u001b[38;5;241m*\u001b[39m\u001b[38;5;241m*\u001b[39mkwargs)\n\u001b[1;32m-> 2172\u001b[0m \u001b[38;5;28;01mdef\u001b[39;00m \u001b[38;5;21m_sum_dispatcher\u001b[39m(a, axis\u001b[38;5;241m=\u001b[39m\u001b[38;5;28;01mNone\u001b[39;00m, dtype\u001b[38;5;241m=\u001b[39m\u001b[38;5;28;01mNone\u001b[39;00m, out\u001b[38;5;241m=\u001b[39m\u001b[38;5;28;01mNone\u001b[39;00m, keepdims\u001b[38;5;241m=\u001b[39m\u001b[38;5;28;01mNone\u001b[39;00m,\n\u001b[0;32m   2173\u001b[0m                     initial\u001b[38;5;241m=\u001b[39m\u001b[38;5;28;01mNone\u001b[39;00m, where\u001b[38;5;241m=\u001b[39m\u001b[38;5;28;01mNone\u001b[39;00m):\n\u001b[0;32m   2174\u001b[0m     \u001b[38;5;28;01mreturn\u001b[39;00m (a, out)\n\u001b[0;32m   2177\u001b[0m \u001b[38;5;129m@array_function_dispatch\u001b[39m(_sum_dispatcher)\n\u001b[0;32m   2178\u001b[0m \u001b[38;5;28;01mdef\u001b[39;00m \u001b[38;5;21msum\u001b[39m(a, axis\u001b[38;5;241m=\u001b[39m\u001b[38;5;28;01mNone\u001b[39;00m, dtype\u001b[38;5;241m=\u001b[39m\u001b[38;5;28;01mNone\u001b[39;00m, out\u001b[38;5;241m=\u001b[39m\u001b[38;5;28;01mNone\u001b[39;00m, keepdims\u001b[38;5;241m=\u001b[39mnp\u001b[38;5;241m.\u001b[39m_NoValue,\n\u001b[0;32m   2179\u001b[0m         initial\u001b[38;5;241m=\u001b[39mnp\u001b[38;5;241m.\u001b[39m_NoValue, where\u001b[38;5;241m=\u001b[39mnp\u001b[38;5;241m.\u001b[39m_NoValue):\n",
      "\u001b[1;31mKeyboardInterrupt\u001b[0m: "
     ]
    }
   ],
   "source": [
    "n_epochs = 20\n",
    "\n",
    "losses = []\n",
    "losses_verbose = []\n",
    "\n",
    "model.train()\n",
    "optimizer.train()\n",
    "for epoch in range(n_epochs):  # number of epochs\n",
    "    epoch_losses = []\n",
    "\n",
    "    for batch_input, batch_target in tqdm(ds_full_loader):\n",
    "        optimizer.zero_grad()\n",
    "        # batch = batch.mT.to(device) # (batch, 2, seq_len)\n",
    "        batch = batch_input.to(device)\n",
    "        outputs = model(batch)\n",
    "        loss = multistep_loss(batch_target.to(device), outputs)\n",
    "        loss.backward()\n",
    "        optimizer.step()\n",
    "        epoch_losses.append(loss.item())\n",
    "\n",
    "    epoch_loss = np.mean(epoch_losses)\n",
    "    losses.append(epoch_loss)\n",
    "    losses_verbose.append(epoch_losses)\n",
    "    print(f\"Epoch {epoch+1}, Loss: {epoch_loss}\")\n",
    "\n",
    "model.eval()\n",
    "optimizer.eval()\n",
    "\n",
    "plt.plot(losses)\n",
    "plt.yscale('log')"
   ]
  },
  {
   "cell_type": "code",
   "execution_count": null,
   "metadata": {},
   "outputs": [
    {
     "data": {
      "image/png": "[encoded data removed]",
      "text/plain": [
       "<Figure size 640x480 with 1 Axes>"
      ]
     },
     "metadata": {},
     "output_type": "display_data"
    }
   ],
   "source": [
    "plt.plot(np.array(losses_verbose).flatten())\n",
    "plt.yscale('log')"
   ]
  },
  {
   "cell_type": "code",
   "execution_count": null,
   "metadata": {},
   "outputs": [],
   "source": [
    "model.cpu()\n",
    "torch.save(model.state_dict(), \"./tmpmodel4.pt\")\n"
   ]
  },
  {
   "cell_type": "code",
   "execution_count": 7,
   "metadata": {},
   "outputs": [
    {
     "data": {
      "text/plain": [
       "<All keys matched successfully>"
      ]
     },
     "execution_count": 7,
     "metadata": {},
     "output_type": "execute_result"
    }
   ],
   "source": [
    "model.load_state_dict(torch.load(\"./tmpmodel4.pt\"))"
   ]
  },
  {
   "cell_type": "code",
   "execution_count": 8,
   "metadata": {},
   "outputs": [
    {
     "data": {
      "text/plain": [
       "torch.Size([8, 2, 5, 1])"
      ]
     },
     "metadata": {},
     "output_type": "display_data"
    }
   ],
   "source": [
    "with torch.no_grad():\n",
    "    display(model(torch.rand(8, 2, 249)).shape)\n",
    "    # display(model(torch.rand(8, 249, 2)).shape)"
   ]
  },
  {
   "cell_type": "code",
   "execution_count": 9,
   "metadata": {},
   "outputs": [
    {
     "name": "stderr",
     "output_type": "stream",
     "text": [
      "c:\\Users\\Abstract\\mambaforge\\envs\\intel_dl\\Lib\\site-packages\\torch\\nn\\modules\\module.py:1527: UserWarning: The grad mode is detected as torch.no_grad() is NOT enabled. In this mode on XPU, please expect NO graph and fusion optimization will be applied. \n",
      " (Triggered internally at C:/jenkins/workspace/IPEX-GPU-ARC770-Windows-Build/frameworks.ai.pytorch.ipex-gpu/csrc/gpu/jit/fusion_pass.cpp:829.)\n",
      "  return forward_call(*args, **kwargs)\n"
     ]
    }
   ],
   "source": [
    "x = torch.rand(1, 2, 249)\n",
    "torch.onnx.export(model, x, \"model.onnx\")"
   ]
  },
  {
   "cell_type": "code",
   "execution_count": null,
   "metadata": {},
   "outputs": [],
   "source": []
  }
 ],
 "metadata": {
  "kernelspec": {
   "display_name": "intel_dl",
   "language": "python",
   "name": "python3"
  },
  "language_info": {
   "codemirror_mode": {
    "name": "ipython",
    "version": 3
   },
   "file_extension": ".py",
   "mimetype": "text/x-python",
   "name": "python",
   "nbconvert_exporter": "python",
   "pygments_lexer": "ipython3",
   "version": "3.11.9"
  }
 },
 "nbformat": 4,
 "nbformat_minor": 2
}

{
 "cells": [
  {
   "cell_type": "code",
   "execution_count": 1,
   "metadata": {},
   "outputs": [
    {
     "name": "stdout",
     "output_type": "stream",
     "text": [
      "2.1.0.post2+cxx11.abi\n",
      "2.1.30.post0 \n",
      "[0]: _DeviceProperties(name='Intel(R) Arc(TM) A770 Graphics', platform_name='Intel(R) Level-Zero', dev_type='gpu', driver_version='1.3.29803', has_fp64=0, total_memory=15930MB, max_compute_units=512, gpu_eu_count=512)\n"
     ]
    }
   ],
   "source": [
    "import itertools\n",
    "import os\n",
    "import pickle\n",
    "import random\n",
    "from typing import Any, Callable, Dict, Iterable, Iterator, List, Optional, Tuple, Union\n",
    "\n",
    "import numpy as np\n",
    "import pandas as pd\n",
    "\n",
    "import torch\n",
    "import torch.nn as nn\n",
    "import torch.optim as optim\n",
    "import torch.nn.functional as F\n",
    "from torch.utils.data import DataLoader, Dataset\n",
    "from torch.utils.data.sampler import SubsetRandomSampler, WeightedRandomSampler\n",
    "\n",
    "import intel_extension_for_pytorch as ipex\n",
    "import schedulefree\n",
    "from tqdm import tqdm, trange\n",
    "\n",
    "from replay_loading import enum_replay_folder, files_to_strokes, sample_stroke\n",
    "\n",
    "import seaborn as sns\n",
    "import matplotlib.pyplot as plt\n",
    "%matplotlib inline\n",
    "plt.style.use(\"ggplot\")\n",
    "\n",
    "print(torch.__version__)\n",
    "print(ipex.__version__)\n",
    "[print(f'[{i}]: {torch.xpu.get_device_properties(i)}') for i in range(torch.xpu.device_count())]\n",
    "\n",
    "device = torch.device(\"xpu\")"
   ]
  },
  {
   "cell_type": "code",
   "execution_count": 2,
   "metadata": {},
   "outputs": [
    {
     "name": "stderr",
     "output_type": "stream",
     "text": [
      "  0%|          | 0/300 [00:00<?, ?it/s]"
     ]
    },
    {
     "name": "stderr",
     "output_type": "stream",
     "text": [
      "100%|██████████| 300/300 [00:22<00:00, 13.41it/s]\n"
     ]
    },
    {
     "data": {
      "text/plain": [
       "1930021"
      ]
     },
     "execution_count": 2,
     "metadata": {},
     "output_type": "execute_result"
    }
   ],
   "source": [
    "replay_fns = list(itertools.islice(enum_replay_folder(\"H:/osu!/Data/r/\"), 300))\n",
    "strokes_subset = list(files_to_strokes(tqdm(replay_fns), min_length=50))\n",
    "sum((len(s[0]) for s in strokes_subset))"
   ]
  },
  {
   "cell_type": "code",
   "execution_count": 3,
   "metadata": {},
   "outputs": [],
   "source": [
    "class StrokeDataset(Dataset):\n",
    "    def __init__(self, strokes, transforms=None):\n",
    "        self.strokes = strokes\n",
    "        self.transforms = transforms\n",
    "        self.wrand_sampler = WeightedRandomSampler([len(s[0]) for s in strokes], len(strokes), replacement=True)\n",
    "\n",
    "    def __len__(self):\n",
    "        return len(self.strokes)\n",
    "\n",
    "    def __getitem__(self, idx):\n",
    "        sample = self.strokes[idx]\n",
    "        \n",
    "        # Apply the transformations if any\n",
    "        if self.transforms:\n",
    "            for transform in self.transforms:\n",
    "                sample = transform(sample)\n",
    "            return sample\n",
    "        else:\n",
    "            return sample[1]\n",
    "\n",
    "\n",
    "class StrokeResample:\n",
    "    def __init__(self, rate_range=(30, 250), max_length=2048):\n",
    "        self.rate_range = rate_range\n",
    "        self.max_length = max_length\n",
    "\n",
    "    def __call__(self, sample):\n",
    "        timings, positions = sample\n",
    "        rate = np.random.uniform(*self.rate_range)\n",
    "        offset = np.random.uniform(0, 1/rate)\n",
    "        return sample_stroke(timings, positions, rate, offset, max_length=self.max_length)\n",
    "\n",
    "\n",
    "class StrokeDiff:\n",
    "    def __call__(self, sample):\n",
    "        return np.diff(sample, axis=0)\n",
    "\n",
    "\n",
    "class ScaleRotateFlip:\n",
    "    def __init__(self, scale_range=(0.5, 1.5)):\n",
    "        self.scale_range = scale_range\n",
    "\n",
    "    def __call__(self, sample):\n",
    "        scale = random.uniform(*self.scale_range)\n",
    "        sample = sample * scale\n",
    "        angle = random.uniform(-np.pi, np.pi)\n",
    "        flip = random.choice([1, -1])\n",
    "        rotation_matrix = np.array([\n",
    "            [np.cos(angle), -flip * np.sin(angle)],\n",
    "            [flip * np.sin(angle), np.cos(angle)]])\n",
    "        sample = sample @ rotation_matrix\n",
    "        return sample\n",
    "\n",
    "\n",
    "class StrokeToTensor:\n",
    "    def __call__(self, sample):\n",
    "        return torch.from_numpy(sample).float()\n",
    "\n",
    "\n",
    "def collate_pad_beginning_zeroes(batch):\n",
    "    max_len = max([len(stroke) for stroke in batch])\n",
    "    padded_batch = [F.pad(stroke, (0, 0, max_len - len(stroke), 0)) for stroke in batch]\n",
    "    return torch.stack(padded_batch)\n",
    "\n",
    "\n",
    "transforms = [\n",
    "    StrokeResample(max_length=4096),\n",
    "    StrokeDiff(),\n",
    "    ScaleRotateFlip(),\n",
    "    StrokeToTensor(),\n",
    "]\n",
    "\n",
    "batch_size = 256\n",
    "\n",
    "ds_small = StrokeDataset(strokes_subset, transforms=transforms)\n",
    "ds_small_loader = DataLoader(ds_small, batch_size=batch_size, sampler=ds_small.wrand_sampler, collate_fn=collate_pad_beginning_zeroes)"
   ]
  },
  {
   "cell_type": "code",
   "execution_count": 4,
   "metadata": {},
   "outputs": [],
   "source": [
    "all_strokes = pickle.load(open(\"all_strokes.pkl\", \"rb\"))\n",
    "\n",
    "ds_full = StrokeDataset(all_strokes, transforms=transforms)\n",
    "ds_full_loader = DataLoader(ds_full, batch_size=batch_size, sampler=ds_full.wrand_sampler, collate_fn=collate_pad_beginning_zeroes)"
   ]
  },
  {
   "cell_type": "code",
   "execution_count": 5,
   "metadata": {},
   "outputs": [
    {
     "name": "stdout",
     "output_type": "stream",
     "text": [
      "Kernels: tensor([5, 5, 5, 5, 5, 5, 5, 5, 5, 5, 5, 5, 1])\n",
      "Input channels: tensor([ 2, 10, 18, 26, 34, 38, 42, 46, 50, 52, 54, 56, 58])\n",
      "Channels: tensor([ 8,  8,  8,  8,  4,  4,  4,  4,  2,  2,  2,  2, 10])\n",
      "Dilations: None\n",
      "Pads: tensor([4, 4, 4, 4, 4, 4, 4, 4, 4, 4, 4, 4, 0])\n",
      "Total padding: 48\n"
     ]
    },
    {
     "data": {
      "text/plain": [
       "torch.Size([8, 2, 5, 464])"
      ]
     },
     "metadata": {},
     "output_type": "display_data"
    },
    {
     "data": {
      "text/plain": [
       "16412"
      ]
     },
     "execution_count": 5,
     "metadata": {},
     "output_type": "execute_result"
    }
   ],
   "source": [
    "# class TestNet4(nn.Module):\n",
    "class TestNet4(torch.jit.ScriptModule):\n",
    "    def __init__(self, kernels=[5] * 12, channels=[8] * 4 + [4] * 4 + [2] * 4, dilations=None, out_steps=5):\n",
    "        super().__init__()\n",
    "\n",
    "        self.kernels = torch.tensor(kernels + [1])\n",
    "        self.out_steps = out_steps\n",
    "        self.channels = torch.tensor(channels + [2 * out_steps])\n",
    "        self.in_channels = torch.tensor([2] + channels).cumsum(dim=0)\n",
    "        self.total_channels = self.in_channels[-1].item() + 2\n",
    "        self.dilations = torch.tensor(dilations + [1]) if dilations is not None else None\n",
    "        self.pads = (self.kernels - 1) * (self.dilations if self.dilations is not None else 1)\n",
    "        self.pad_total = self.pads.sum().item()\n",
    "        self.pad_max = self.pads.max().item()\n",
    "        self.ar_len = 5\n",
    "\n",
    "        self.convs = nn.ModuleList(\n",
    "            [\n",
    "                nn.Conv1d(\n",
    "                    in_channels=self.in_channels[i].item(),\n",
    "                    out_channels=self.channels[i].item() * 2,\n",
    "                    kernel_size=self.kernels[i].item(),\n",
    "                    dilation=self.dilations[i].item() if self.dilations is not None else 1,\n",
    "                )\n",
    "                for i in range(len(self.kernels))\n",
    "            ]\n",
    "        )\n",
    "        self.n_layers = len(self.convs)\n",
    "\n",
    "        print(f\"Kernels: {self.kernels}\")\n",
    "        print(f\"Input channels: {self.in_channels}\")\n",
    "        print(f\"Channels: {self.channels}\")\n",
    "        print(f\"Dilations: {self.dilations}\")\n",
    "        print(f\"Pads: {self.pads}\")\n",
    "        print(f\"Total padding: {self.pad_total}\")\n",
    "\n",
    "    @torch.jit.script_method\n",
    "    def forward(self, x):\n",
    "        # input is (batch, channels, seq_len)\n",
    "        B, _, L = x.shape\n",
    "        curr_window = torch.tensor(x.shape[-1])\n",
    "        acts = [x]\n",
    "        for i, conv in enumerate(self.convs):\n",
    "            x = torch.cat([act[..., -curr_window:] for act in acts], dim=1)\n",
    "            x = conv(x)\n",
    "            x = F.glu(x, dim=1)\n",
    "            curr_window -= self.pads[i]\n",
    "            acts.append(x)\n",
    "        return x.view(B, 2, self.out_steps, L-self.pad_total) # (batch, 2, out_steps, seq_len-pad)\n",
    "        # return x.transpose(1, 2).view(B, L-self.pad_total, 2, self.out_steps)\n",
    "\n",
    "model = TestNet4()\n",
    "\n",
    "with torch.no_grad():\n",
    "    display(model(torch.rand(8, 2, 512)).shape)\n",
    "\n",
    "sum(p.numel() for p in model.parameters() if p.requires_grad)"
   ]
  },
  {
   "cell_type": "code",
   "execution_count": 6,
   "metadata": {},
   "outputs": [],
   "source": [
    "step_loss_weights = 1 / np.arange(2, 7)\n",
    "\n",
    "def multistep_loss(input, preds):\n",
    "    in_L = input.shape[-1]\n",
    "    out_L = preds.shape[-1]\n",
    "    return torch.stack(\n",
    "        [\n",
    "            lw\n",
    "            * F.huber_loss(\n",
    "                # input (batch, 2, seq_len)\n",
    "                # preds (batch, 2, out_steps, seq_len-pad)\n",
    "                input[..., 1 + in_L - out_L + step : in_L ],\n",
    "                preds[..., step,                   : out_L - step - 1],\n",
    "            )\n",
    "            for step, lw in enumerate(step_loss_weights)\n",
    "        ]\n",
    "    ).sum()"
   ]
  },
  {
   "cell_type": "code",
   "execution_count": 7,
   "metadata": {},
   "outputs": [
    {
     "name": "stderr",
     "output_type": "stream",
     "text": [
      "100%|██████████| 874/874 [02:06<00:00,  6.91it/s]"
     ]
    },
    {
     "name": "stdout",
     "output_type": "stream",
     "text": [
      "1.1212814620757812\n"
     ]
    },
    {
     "name": "stderr",
     "output_type": "stream",
     "text": [
      "\n"
     ]
    }
   ],
   "source": [
    "# get benchmark loss on one epoch\n",
    "\n",
    "class CopyLastBenchmark(torch.jit.ScriptModule):\n",
    "    def __init__(self, out_steps=5):\n",
    "        super().__init__()\n",
    "        self.out_steps = out_steps\n",
    "    \n",
    "    @torch.jit.script_method\n",
    "    def forward(self, x):\n",
    "        return x.unsqueeze(2).expand(-1, -1, self.out_steps, -1)\n",
    "\n",
    "benchmark_model = CopyLastBenchmark()\n",
    "losses = []\n",
    "with torch.no_grad():\n",
    "    for batch in tqdm(ds_full_loader):\n",
    "        batch = batch.mT\n",
    "        losses.append(multistep_loss(batch, benchmark_model(batch)).item())\n",
    "print(np.mean(losses))"
   ]
  },
  {
   "cell_type": "code",
   "execution_count": 13,
   "metadata": {},
   "outputs": [
    {
     "name": "stdout",
     "output_type": "stream",
     "text": [
      "Kernels: tensor([7, 7, 7, 5, 5, 5, 3, 3, 3, 1])\n",
      "Input channels: tensor([ 2,  6, 10, 14, 17, 20, 23, 24, 25, 26])\n",
      "Channels: tensor([ 4,  4,  4,  3,  3,  3,  1,  1,  1, 10])\n",
      "Dilations: tensor([ 1,  2,  8, 12, 16, 12,  8,  2,  1,  1])\n",
      "Pads: tensor([ 6, 12, 48, 48, 64, 48, 16,  4,  2,  0])\n",
      "Total padding: 248\n",
      "3558\n"
     ]
    },
    {
     "data": {
      "text/plain": [
       "(TestNet4(\n",
       "   (convs): RecursiveScriptModule(\n",
       "     original_name=ModuleList\n",
       "     (0): RecursiveScriptModule(original_name=Conv1d)\n",
       "     (1): RecursiveScriptModule(original_name=Conv1d)\n",
       "     (2): RecursiveScriptModule(original_name=Conv1d)\n",
       "     (3): RecursiveScriptModule(original_name=Conv1d)\n",
       "     (4): RecursiveScriptModule(original_name=Conv1d)\n",
       "     (5): RecursiveScriptModule(original_name=Conv1d)\n",
       "     (6): RecursiveScriptModule(original_name=Conv1d)\n",
       "     (7): RecursiveScriptModule(original_name=Conv1d)\n",
       "     (8): RecursiveScriptModule(original_name=Conv1d)\n",
       "     (9): RecursiveScriptModule(original_name=Conv1d)\n",
       "   )\n",
       " ),\n",
       " AdamWScheduleFree (\n",
       " Parameter Group 0\n",
       "     betas: (0.9, 0.999)\n",
       "     eps: 1e-08\n",
       "     foreach: True\n",
       "     k: 0\n",
       "     lr: 0.0025\n",
       "     lr_max: -1.0\n",
       "     r: 0.0\n",
       "     train_mode: True\n",
       "     warmup_steps: 0\n",
       "     weight_decay: 0.001\n",
       "     weight_lr_power: 2.0\n",
       "     weight_sum: 0.0\n",
       " ))"
      ]
     },
     "execution_count": 13,
     "metadata": {},
     "output_type": "execute_result"
    }
   ],
   "source": [
    "dilated_params = {\n",
    "    \"kernels\": [7, 7, 7, 5, 5, 5, 3, 3, 3],\n",
    "    \"channels\": [4, 4, 4, 3, 3, 3, 1, 1, 1],\n",
    "    \"dilations\": [1, 2, 8, 12, 16, 12, 8, 2, 1],\n",
    "}\n",
    "model = TestNet4(**dilated_params)\n",
    "print(sum(p.numel() for p in model.parameters() if p.requires_grad))\n",
    "\n",
    "torch.xpu.empty_cache()\n",
    "model.to(device)\n",
    "unpad = model.pad_total + 1\n",
    "optimizer = schedulefree.AdamWScheduleFree(model.parameters(), lr=0.0025, weight_decay=0.001)\n",
    "ipex.optimize(model, optimizer=optimizer)"
   ]
  },
  {
   "cell_type": "code",
   "execution_count": 14,
   "metadata": {},
   "outputs": [
    {
     "name": "stderr",
     "output_type": "stream",
     "text": [
      "100%|██████████| 874/874 [02:57<00:00,  4.92it/s]\n"
     ]
    },
    {
     "name": "stdout",
     "output_type": "stream",
     "text": [
      "Epoch 1, Loss: 1.0066114496311824\n"
     ]
    },
    {
     "name": "stderr",
     "output_type": "stream",
     "text": [
      "100%|██████████| 874/874 [02:57<00:00,  4.93it/s]\n"
     ]
    },
    {
     "name": "stdout",
     "output_type": "stream",
     "text": [
      "Epoch 2, Loss: 0.9021616835206815\n"
     ]
    },
    {
     "name": "stderr",
     "output_type": "stream",
     "text": [
      "100%|██████████| 874/874 [02:56<00:00,  4.94it/s]\n"
     ]
    },
    {
     "name": "stdout",
     "output_type": "stream",
     "text": [
      "Epoch 3, Loss: 0.8953115384966067\n"
     ]
    },
    {
     "name": "stderr",
     "output_type": "stream",
     "text": [
      "100%|██████████| 874/874 [02:56<00:00,  4.95it/s]\n"
     ]
    },
    {
     "name": "stdout",
     "output_type": "stream",
     "text": [
      "Epoch 4, Loss: 0.8808432377585012\n"
     ]
    },
    {
     "name": "stderr",
     "output_type": "stream",
     "text": [
      "100%|██████████| 874/874 [02:56<00:00,  4.95it/s]\n"
     ]
    },
    {
     "name": "stdout",
     "output_type": "stream",
     "text": [
      "Epoch 5, Loss: 0.8794785636377007\n"
     ]
    },
    {
     "data": {
      "image/png": "[encoded data removed]",
      "text/plain": [
       "<Figure size 640x480 with 1 Axes>"
      ]
     },
     "metadata": {},
     "output_type": "display_data"
    }
   ],
   "source": [
    "n_epochs = 5\n",
    "\n",
    "losses = []\n",
    "losses_verbose = []\n",
    "\n",
    "model.train()\n",
    "optimizer.train()\n",
    "for epoch in range(n_epochs):  # number of epochs\n",
    "    epoch_losses = []\n",
    "\n",
    "    for batch in tqdm(ds_full_loader):\n",
    "        optimizer.zero_grad()\n",
    "        batch = batch.mT.to(device) # (batch, 2, seq_len)\n",
    "        outputs = model(batch)\n",
    "        loss = multistep_loss(batch, outputs)\n",
    "        loss.backward()\n",
    "        optimizer.step()\n",
    "        epoch_losses.append(loss.item())\n",
    "\n",
    "    epoch_loss = np.mean(epoch_losses)\n",
    "    losses.append(epoch_loss)\n",
    "    losses_verbose.append(epoch_losses)\n",
    "    print(f\"Epoch {epoch+1}, Loss: {epoch_loss}\")\n",
    "\n",
    "model.eval()\n",
    "optimizer.eval()\n",
    "\n",
    "plt.plot(losses)\n",
    "plt.yscale('log')"
   ]
  },
  {
   "cell_type": "code",
   "execution_count": 15,
   "metadata": {},
   "outputs": [
    {
     "data": {
      "image/png": "[encoded data removed]",
      "text/plain": [
       "<Figure size 640x480 with 1 Axes>"
      ]
     },
     "metadata": {},
     "output_type": "display_data"
    }
   ],
   "source": [
    "plt.plot(np.array(losses_verbose).flatten())\n",
    "plt.yscale('log')"
   ]
  },
  {
   "cell_type": "code",
   "execution_count": 16,
   "metadata": {},
   "outputs": [],
   "source": [
    "model.cpu()\n",
    "torch.save(model.state_dict(), \"./tmpmodel1.pt\")\n"
   ]
  },
  {
   "cell_type": "code",
   "execution_count": 17,
   "metadata": {},
   "outputs": [
    {
     "data": {
      "text/plain": [
       "<All keys matched successfully>"
      ]
     },
     "execution_count": 17,
     "metadata": {},
     "output_type": "execute_result"
    }
   ],
   "source": [
    "model.load_state_dict(torch.load(\"./tmpmodel1.pt\"))"
   ]
  },
  {
   "cell_type": "code",
   "execution_count": 18,
   "metadata": {},
   "outputs": [
    {
     "data": {
      "text/plain": [
       "torch.Size([8, 2, 5, 1])"
      ]
     },
     "metadata": {},
     "output_type": "display_data"
    }
   ],
   "source": [
    "with torch.no_grad():\n",
    "    display(model(torch.rand(8, 2, 249)).shape)\n",
    "    # display(model(torch.rand(8, 249, 2)).shape)"
   ]
  },
  {
   "cell_type": "code",
   "execution_count": 19,
   "metadata": {},
   "outputs": [],
   "source": [
    "x = torch.rand(1, 2, 249)\n",
    "torch.onnx.export(model, x, \"aaaaa1.onnx\")"
   ]
  },
  {
   "cell_type": "code",
   "execution_count": null,
   "metadata": {},
   "outputs": [],
   "source": []
  },
  {
   "cell_type": "code",
   "execution_count": 20,
   "metadata": {},
   "outputs": [],
   "source": [
    "x = next(iter(ds_full_loader)).numpy()"
   ]
  },
  {
   "cell_type": "code",
   "execution_count": 21,
   "metadata": {},
   "outputs": [],
   "source": [
    "x = x[x!=0].flatten()"
   ]
  },
  {
   "cell_type": "code",
   "execution_count": 22,
   "metadata": {},
   "outputs": [
    {
     "data": {
      "text/plain": [
       "array([-2.10676361e+02, -5.93423944e+00, -2.69559503e+00, -1.28531070e+00,\n",
       "       -4.78068447e-01, -7.14996620e-03,  4.54249072e-01,  1.26174833e+00,\n",
       "        2.71354008e+00,  5.96902785e+00,  1.88439407e+02])"
      ]
     },
     "execution_count": 22,
     "metadata": {},
     "output_type": "execute_result"
    }
   ],
   "source": [
    "np.quantile(x, np.linspace(0,1,11))"
   ]
  },
  {
   "cell_type": "code",
   "execution_count": 23,
   "metadata": {},
   "outputs": [
    {
     "data": {
      "text/plain": [
       "(-50.0, 50.0)"
      ]
     },
     "execution_count": 23,
     "metadata": {},
     "output_type": "execute_result"
    },
    {
     "data": {
      "image/png": "[encoded data removed]",
      "text/plain": [
       "<Figure size 640x480 with 1 Axes>"
      ]
     },
     "metadata": {},
     "output_type": "display_data"
    }
   ],
   "source": [
    "gfg = sns.kdeplot(x[x!=0], gridsize=2000)\n",
    "gfg.set_xlim(-50, 50)"
   ]
  },
  {
   "cell_type": "code",
   "execution_count": null,
   "metadata": {},
   "outputs": [],
   "source": []
  }
 ],
 "metadata": {
  "kernelspec": {
   "display_name": "intel_dl",
   "language": "python",
   "name": "python3"
  },
  "language_info": {
   "codemirror_mode": {
    "name": "ipython",
    "version": 3
   },
   "file_extension": ".py",
   "mimetype": "text/x-python",
   "name": "python",
   "nbconvert_exporter": "python",
   "pygments_lexer": "ipython3",
   "version": "3.11.9"
  }
 },
 "nbformat": 4,
 "nbformat_minor": 2
}
